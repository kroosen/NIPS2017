{
 "cells": [
  {
   "cell_type": "code",
   "execution_count": 13,
   "metadata": {},
   "outputs": [],
   "source": [
    "import keras\n",
    "from keras.preprocessing import image\n",
    "import numpy as np\n",
    "import pandas as pd\n",
    "from glob import glob\n",
    "import re\n",
    "from tqdm import tqdm"
   ]
  },
  {
   "cell_type": "code",
   "execution_count": 2,
   "metadata": {
    "collapsed": true
   },
   "outputs": [],
   "source": [
    "inception_model = keras.applications.inception_v3.InceptionV3(include_top=True, weights='imagenet')\n",
    "# inception_model.summary()"
   ]
  },
  {
   "cell_type": "code",
   "execution_count": 3,
   "metadata": {
    "collapsed": true
   },
   "outputs": [],
   "source": [
    "# Helper functions for image preparation\n",
    "def path_to_tensor(img_path):\n",
    "    # loads RGB image as PIL.Image.Image type\n",
    "    img = image.load_img(img_path, target_size=(299, 299))\n",
    "    # convert PIL.Image.Image type to 3D tensor with shape (224, 224, 3)\n",
    "    x = image.img_to_array(img)\n",
    "    # print('before', x.shape)\n",
    "    # convert 3D tensor to 4D tensor with shape (1, 224, 224, 3) and return 4D tensor\n",
    "    y = np.expand_dims(x, axis=0)\n",
    "    # print('after expanding', y.shape)\n",
    "    return y\n",
    "\n",
    "def paths_to_tensor(img_paths):\n",
    "    list_of_tensors = [path_to_tensor(img_path) for img_path in img_paths]\n",
    "    # print('before vstack', len(list_of_tensors), list_of_tensors[0].shape)\n",
    "    z = np.vstack(list_of_tensors)\n",
    "    # print('after vstack', z.shape)\n",
    "    return z"
   ]
  },
  {
   "cell_type": "code",
   "execution_count": 5,
   "metadata": {},
   "outputs": [
    {
     "name": "stdout",
     "output_type": "stream",
     "text": [
      "(1000, 299, 299, 3)\n"
     ]
    }
   ],
   "source": [
    "# Collect all image paths from the DEV set\n",
    "dev_paths = glob(\"../dataset/images/*\")\n",
    "\n",
    "# Convert to tensors, scaled to [0,1]\n",
    "dev_tensors = paths_to_tensor(dev_paths).astype('float32')/255\n",
    "print(dev_tensors.shape)"
   ]
  },
  {
   "cell_type": "code",
   "execution_count": 6,
   "metadata": {
    "collapsed": true
   },
   "outputs": [],
   "source": [
    "# Create a pandas dataframe with the image labels as index and only keeping the TrueLabel column\n",
    "df = pd.read_csv(\"../dataset/dev_dataset.csv\", index_col=0)\n",
    "df = df[['TrueLabel']]\n",
    "print(df.head())"
   ]
  },
  {
   "cell_type": "code",
   "execution_count": 11,
   "metadata": {},
   "outputs": [
    {
     "name": "stdout",
     "output_type": "stream",
     "text": [
      "1000\n"
     ]
    }
   ],
   "source": [
    "# Make a list of all the image labels\n",
    "il = []\n",
    "for dp in dev_paths:\n",
    "    il.append(re.search(r'(?<=\\\\).*\\.png', dp).group(0)[:-4])\n",
    "imageLabels = np.array(il)\n",
    "print(len(imageLabels))"
   ]
  },
  {
   "cell_type": "code",
   "execution_count": 30,
   "metadata": {},
   "outputs": [
    {
     "name": "stderr",
     "output_type": "stream",
     "text": [
      "100%|██████████████████████████████████████████████████████████████████████████████| 1000/1000 [11:06<00:00,  1.18it/s]\n"
     ]
    },
    {
     "name": "stdout",
     "output_type": "stream",
     "text": [
      "{'000b7d55b6184b08': 389, '001b5e6f1b89fd3b': 577, '00312c7e7196baf4': 327, '00c3cd597f1ee96f': 138, '01244097ca8ffdfa': 91, '0134ba03294509a1': 982, '014f0024918a7b6f': 10, '01bdc0cfe670f708': 472, '01dd15caa1b2c7b4': 304, '01f824264783f58d': 968, '01fa4be27dd11b5d': 451, '0212aa8aa912ee45': 327, '024f73e53c3c1f1d': 580, '02dbe78a73db2808': 975, '02eb799d147d5f91': 625, '038fd7a750733bb5': 18, '03f90f7138f761e8': 664, '0411ca972e637297': 968, '04546cc5e537d7cd': 426, '04c1bde5affb7b5b': 653, '04cb9de291399d15': 465, '05437214d1ba9580': 810, '0546b47c13f154d3': 108, '05817a675e7506d1': 673, '059da9a174262427': 254, '05cac1419419ce29': 854, '05f7c084329ff0c6': 973, '060dfe239abfd547': 704, '064e1cc405062c85': 108, '068c5d66662a837a': 964, '06a0e36c443746b5': 354, '0707f3dfb7c29f5c': 606, '080bec22a6b1d37d': 760, '088560551b91ceb0': 983, '08fbf75e60a6efb7': 484, '093402dc35f59027': 734, '0aebe24fc257286e': 561, '0af0a5dfee6b84ff': 484, '0b1d45bd9ab1064e': 561, '0bd5123017590e39': 566, '0be391239ccba0f2': 719, '0c7ac4a8c9dfa802': 306, '0ceee9a38409e30c': 484, '0d29832e5da60f5f': 973, '0d6463e9a7ef6185': 771, '0d65cb9d26de4d37': 571, '0d85e0103989c850': 324, '0db0952967f6faa6': 816, '0dffbfa7ba43cb90': 962, '0e0299d6352a3fb8': 539, '0e0f1fd2ed183781': 114, '0e71473957df4793': 878, '0e83f990a04ed67d': 822, '0e9bdc3ab80b1a71': 367, '0ed355357757528d': 763, '0f36316247c03427': 753, '0f9d8c86a9f38020': 760, '10bc8784a5eb8843': 744, '10db986bad48a9d5': 695, '114c98c078c5aab0': 50, '11954d93a7051cb5': 23, '11afa51200515f9a': 826, '11c53fe6feb856c6': 462, '121c87c3c822e2c5': 459, '126175abfdcb1a21': 471, '128fca690a11f68c': 98, '12cf4de43c70273e': 815, '12fb008451be82d4': 583, '134bfd93a04b88b2': 581, '137ab6ca314e9e35': 799, '13810fcac72f12ba': 876, '1394faa319bd353c': 610, '143c74a57326fd40': 422, '1461ed9402248ddc': 514, '1478a0fc99a988db': 615, '1484479b7630af0a': 702, '150249123e81930d': 923, '15d27dbdc9eeda7f': 469, '16179baa1513c701': 95, '1685d066f8070081': 979, '16bbe588e0ecc6ab': 142, '16ff75228179469c': 228, '172f992e1a0ebbc3': 566, '1733cbc68a2ae05d': 556, '17cfccd62451a233': 966, '17df043d369008f5': 991, '17f3b8a057bc01be': 859, '184a160b32ff4c72': 518, '18d5f99fe237a306': 815, '19935b1c0a4d305d': 761, '19b5bea9a7608a92': 778, '19d43f8204d3183d': 985, '1a264165276e3c85': 855, '1a680f33500acb4b': 932, '1a7425e8f990e04a': 608, '1a94dc47fdd84a95': 870, '1a95932427129cda': 657, '1ac44ddb6a2d497a': 898, '1b1ffd7000d0749f': 960, '1b546695167d3f6e': 960, '1b57d7bbd673c771': 423, '1ba816dc6937b62d': 860, '1bb5f1337dfb1edd': 641, '1be47d60e0156bbb': 650, '1c2e9fe8b0b2fdf2': 58, '1c924877ccc60129': 410, '1cbae41091a750dc': 473, '1cc2caf8e5db27c3': 431, '1cfa5381359bff9f': 422, '1d4133f5bc7af193': 141, '1d5361e858fe8462': 499, '1dc0533f87996962': 566, '1df5e1adad21d618': 405, '1dfbeffd999f280e': 582, '1e26772fc8c493bb': 416, '1e33aa336b89dcff': 539, '1e408a8d1e2cdc74': 769, '1e4bb9fd37654da6': 820, '1e77361718213a43': 440, '1ebff1b3c8de66de': 337, '1ef172b89f4a39cf': 51, '1f3f949ccbc81c93': 304, '1f4227ce24232867': 34, '1f71668ab3dbe81b': 709, '1f7c25207bc3e303': 476, '200285e90078210b': 442, '200735f93ea764f2': 309, '207fd3b5def218d1': 991, '212476b1b58a0cfe': 512, '2153d9869fb5a9ef': 645, '21554e755b9706d2': 342, '217597258ac12258': 583, '218e02b6cfa0466e': 653, '21b0803c965f76ef': 920, '21fef4d9b3dce49a': 975, '2200794c59b1808e': 311, '225e06c2dfa68a62': 882, '22712d0324d43ef2': 898, '228fec6cab5f560d': 974, '229fbe790098d2e5': 481, '22a313cc9fc2b4f1': 310, '22a9c318b6e36853': 787, '232c22314e21f764': 115, '23955512cd0e1191': 476, '23f39187c0d00e30': 972, '23f9d18d531eb148': 479, '24159caf9c5e92be': 708, '24312de5c34473c0': 874, '24726d9054e9d78f': 545, '25eef91443ded954': 437, '25f85aadcf248cc1': 854, '263c7bcd59502625': 480, '26aa2e6ee43387e7': 913, '2842a69bf5b14526': 880, '28652355cd12a1e7': 308, '2891f4aa2279d369': 471, '29279d12ed3e29ff': 458, '296033c3a5910845': 361, '29fe8d653950a631': 80, '2a1a60df9a58bb7c': 864, '2abcab3d77d4767e': 518, '2b741c5c635a7295': 108, '2b7e6f0d6f73fa1f': 454, '2ba52bcf59097dc8': 971, '2bc6c55a0ab24f86': 633, '2c065d2dc6b2cf44': 934, '2c54b60a2851b8ed': 657, '2c9398f44d099e0f': 125, '2d23b1dab7e3e9c0': 511, '2d95297e468bdf9b': 866, '2e541180b2323a5d': 429, '2e854fca826e54b3': 858, '2e9b377877f64b3d': 499, '2ed718f6db9785f8': 519, '2ee4c1b2b9bcc6c8': 763, '2efe4916e679e875': 866, '2f7d5ff922af55c4': 481, '2fc17ec1fad5d947': 874, '303781188f1b3b27': 477, '30b62313af2b5d74': 316, '30b922dbfdbffd11': 610, '30e132285c2e960f': 912, '313ff0037b86260a': 498, '315e55af9615abd2': 347, '319e8b63d6a194aa': 826, '3201d10ec4dca056': 739, '3228a465697fb2cf': 840, '324278ff7f22b4eb': 819, '328d99215b19c8c7': 806, '32c0e4647ce5a812': 327, '3302a8c24caf20f4': 707, '330b9cb3cd80c88b': 534, '33197fa6ae88508a': 848, '335e604bbe3eec78': 312, '33adbc27fdcadd65': 924, '346c5575b60194c3': 949, '348618ddbde3a39c': 386, '348ac56def3ccd35': 916, '34a39905ce228160': 769, '35c344ca0584ba14': 688, '35d67f3f70aeef92': 980, '3617bfc5d06bc196': 885, '362e4ac62cf888f4': 573, '3692f6967c632fee': 806, '37e7dc99bf2704c7': 664, '380053c506e32105': 780, '38287d2e5a4a9a57': 960, '3841b33c9797cbf1': 909, '38546e7d7136c2ab': 600, '38bdd950c1d08be6': 133, '38c6124f40b8d845': 896, '38d8d105d5e70c80': 422, '38deb4830d12358f': 980, '393d40f3a6a79400': 328, '398720b8f19d5b84': 697, '39a483e9a23716ed': 676, '39f82c728c956125': 638, '3a7d9bd310202e93': 790, '3b32eca218ed3dbe': 742, '3b67bec3793efcb4': 822, '3bd1ba0432603b28': 921, '3bfe9ff7b488485d': 655, '3c970c84b598f2d9': 780, '3cf4bb0637d0f182': 862, '3d6e530955c60759': 512, '3d75d9676ad6361c': 151, '3dc0e8f854bdc9b3': 604, '3df888fc3b1df464': 955, '3dfbdd066af9ca1e': 821, '3e1e47f5af2a3f16': 294, '3e7b01ba495f15f9': 708, '3e8bf1eee7083f6e': 631, '3e9496f7652e1968': 469, '3ece3c1f94e4141a': 332, '3eded0a8d5f16059': 100, '3efa3df701898afd': 643, '3f40eba168e5d385': 515, '3f48b1e74589d310': 653, '3f8bf287f20333eb': 973, '4053a6a3d0e63c01': 392, '405dd60729a8c18d': 848, '4063377442ea93d3': 596, '408bae58c26a8076': 133, '40a7f086461190f3': 493, '40f79488e3c2d6c4': 918, '411c5d79017077f4': 82, '412311ea17528b7c': 764, '4146a745f9b2f3cb': 51, '4227a6e105cc0588': 971, '422d08407aeed1be': 114, '42e55ac6782d4d99': 974, '42e9b41ce96dbf0a': 851, '435137d9d4f4125e': 2, '43694caa12d5f823': 976, '43fa89c17e628c06': 133, '444109f3ccfacc7b': 336, '446b24f903b488fc': 144, '446f75fdea0e1da0': 922, '448a738f6dcba07e': 563, '44982b98ba192bb7': 322, '44aa69f642b86628': 880, '44fa09bc5f8e69a5': 304, '45315ea51da415ab': 356, '4572c8986c28343b': 437, '45da32a1cf073a4f': 100, '46a489dcff5471a4': 920, '46b657df12fd7c26': 284, '477bf90e7413df23': 542, '47b087263b33728b': 318, '48762c2cd2ed47e1': 755, '490df9e021386d29': 405, '493694833dc23399': 538, '493e327b171ab0c3': 425, '49591319edeb6b3a': 309, '49b1adfeb8ffcabd': 932, '49c27b439d39a00c': 490, '4a0bac33f8e81e60': 407, '4a1a40a116088962': 598, '4a1a488e8a975f7c': 920, '4a251fb6d80b5137': 800, '4abadb721e74b99b': 945, '4aeb33c9e565a201': 98, '4b0c9bf2584b35d3': 960, '4b384c8247b56c0a': 542, '4b52fd42977215b9': 901, '4b8517e927f32962': 866, '4bb12984b41d0834': 34, '4bdb561770b52424': 147, '4c8a4414419ab0bb': 662, '4ca02fd28a5e9703': 311, '4cccb215bd60b3c3': 33, '4cd90a6459ce9571': 719, '4d008626b4b68665': 108, '4d0c0f35a0c00bdc': 680, '4d1237ccbd9a5b4b': 815, '4dc360d125c9238c': 527, '4de063bd5b838f11': 2, '4e1bdcb677f21fb4': 874, '4e34df87968bd882': 339, '4edeacef9fb8ec90': 719, '4f04ca75d7aafc0a': 840, '4f5464b7d4682441': 976, '4f553b721705d008': 397, '4f722cab5573a5fb': 885, '4f9f0b75f5b04524': 58, '4fc263d35a3ad3ee': 244, '4fcc9c949d66a4e0': 771, '4fff343244f212cc': 821, '5021e7da00bf43b2': 480, '506b87b78daa499c': 821, '50b9e11ae686ae32': 321, '510e5062fef4a993': 631, '513b3032ed1f388c': 114, '515c6586db87bbd8': 874, '517dc655edeaf344': 430, '5191cfba868056a5': 971, '51b390bb124a6d9d': 968, '51d1c77f80467b59': 977, '5224fec9ba33b50d': 604, '526f322d78bd5b44': 571, '5292f5b36a0789fa': 854, '52d8515abbfaa8ac': 230, '53211f8a1b131de6': 946, '53c478ffc8ddb967': 320, '53fe22426ff21243': 536, '54153d17b11b495c': 437, '542c07e8bf8e283c': 145, '54666421b4a6998f': 920, '54a6b2cd7f89220e': 972, '54ff02d9dfbf8540': 884, '5528f7330399485f': 74, '55323ce1ff485412': 386, '55512a6c2a45e2e8': 928, '55599050147071cc': 473, '556d8b457b94c285': 747, '558a7b66b78ba65b': 422, '55a2e48a87c16998': 911, '55b85f4336d9603a': 880, '55e85d7b58024966': 968, '564de663adeb8cd5': 558, '565c67fd230f18cc': 555, '56dbd7d814ef5c58': 254, '56e9d5f63cfc507e': 441, '5792d4a42d2a82c8': 988, '57e62606f02d0251': 548, '582663fe666aac9c': 923, '58420b727fcab02b': 138, '588bd41c9aa5a81b': 534, '589319c64adf5fce': 699, '58bbaa0c5ab520d5': 663, '58f0fd17c4a0e25a': 991, '59204d6bb0c234eb': 418, '592c7424f13b2d29': 604, '5973419efd52f783': 625, '59e9bdbb7a3fc4ba': 518, '5a0e21d54b9c4954': 328, '5a6439b10c1f6761': 320, '5a8d5bc9bf40e832': 519, '5ab3f1edd2f0cb06': 387, '5adb3d985cf217a9': 405, '5b3a8c63e41802e7': 750, '5b60477a29c7ef81': 416, '5b85f98e0105d135': 570, '5b974695c09ad165': 991, '5bdb8268eadf57d8': 852, '5bf502c4a4b7d04d': 10, '5c2d823a4d30e3d5': 718, '5c4eec952ca114a1': 348, '5c847b72d1e1713f': 556, '5c8bcfa0dbb246ab': 818, '5cd8864b6e35df82': 866, '5ceb9f2e8405b0de': 412, '5cf72b48fdf5e419': 630, '5d1df4748743d42e': 964, '5d23b04cc45bc37b': 518, '5d53f9bc389e98ad': 265, '5d6b9cadb6f9e1cd': 896, '5d6c4759c26bae8c': 547, '5d77597361d06d2b': 904, '5d8085ae68e07d72': 709, '5dbfff56258cf9e6': 318, '5dd8e133e66ecd3a': 142, '5ec826683757ffae': 23, '5efeca6c4c233f01': 761, '5f3ea3c6b683fb57': 773, '5fc906f27c8975d2': 979, '5ff168f7d006f69c': 683, '602f2c3749d6021e': 747, '604b54a3b7424d9b': 939, '60566d5680497389': 473, '607702d7ef44d081': 865, '60ab0fb53634bc3c': 766, '60ed157b21d49c4c': 755, '60f5900a00d94b25': 706, '61131df39f19a4a0': 615, '611f453c4bb616b9': 310, '619a9d0eb2acdd82': 885, '61ed2594a0524631': 472, '6217866896fbe2b7': 699, '629138193e021cdf': 885, '62949c357e429690': 501, '62c7958e7cd80cca': 402, '62e0e0efc6deeef4': 909, '62ebd5f7ce015380': 631, '6314b953a2f66e36': 311, '631b6820e91a9e3e': 13, '634d7f18d098cccb': 539, '635ea505879178ed': 539, '6374e7e35ad90f50': 39, '63f2e14ab6be82cf': 668, '641d03527848417f': 341, '64577d3916d6dafb': 606, '648231d9393250fd': 548, '64ed3f0e8a2dc320': 653, '65251969959ce0e6': 938, '659ca4ac6cc57e89': 778, '65b8c8b065069802': 666, '65c1808390bd18c5': 686, '6609c25b3314b5b3': 512, '6612fd36e6dd9534': 309, '668bc83a884d24f9': 3, '66aa56675136bbab': 470, '6711e27733cfd050': 718, '6740e1e89b5bbab4': 981, '67967c9db11151e0': 252, '67a08d685abf7fb6': 739, '67a52d9155241752': 830, '67c0339b1dfda5f6': 558, '67dd47336dc89421': 818, '68274b8293271807': 834, '6841e385fe79177f': 830, '686ea4ec999364ff': 459, '6896a8b78f404dc8': 980, '6898f889c17f8e16': 888, '692016122b9e07a6': 960, '694e7617a4878041': 884, '696f0f6bea562bf8': 854, '69788a29e7436808': 310, '69854b68476d5068': 893, '69a3493d13953e1f': 520, '69a39406cb1d2ce5': 476, '6a50fbe8723a6a4a': 975, '6a940d1bf69f1d10': 558, '6ab876a15af539c4': 984, '6ac94c9244f84aa3': 673, '6ad1230d612d7eb7': 438, '6af829a442e2e0e7': 130, '6afe58efa85756dc': 929, '6b27728f0f816dc6': 638, '6bb6cf032c1286c5': 468, '6bea02f26beef50d': 709, '6bff4ecb94f1f84e': 859, '6c9f8901246faff2': 629, '6cae4a23623d142b': 583, '6cc289dc7a8fce86': 158, '6d2d82bc1ba0a956': 52, '6d6078c60e59e9f4': 985, '6de6432b0f23ae75': 105, '6e840c209f5733d5': 442, '6ecbd7d19f5b9147': 596, '6efed50f84ec5e01': 947, '7060ae82e5b96a77': 522, '7069a117c92d27a4': 546, '707bce947d54bcd8': 947, '70a2529a6b2c0d46': 580, '70b3b833463d20b9': 864, '70b9b8ae11327472': 11, '70d812d368e3e828': 456, '70db5a1689f89129': 434, '71080285ad6cb4e9': 540, '715335d5ddfca1f2': 481, '71d368782c72e313': 913, '721804d1d3a60206': 909, '7278c2b63080f08c': 349, '72ac2a5af79e26d5': 718, '72d85232abd98067': 471, '72e6ba0cc7fb30a6': 875, '72f96c6dc5df2de8': 885, '73064ceb466612d5': 719, '7368fe0ff47343a0': 965, '73728c249317ccb9': 848, '73a52afd2f818ed5': 439, '73ee2cc19ef92e50': 982, '740981d161a38bad': 572, '741fc1a3fc08731d': 793, '74355a8c878b6814': 875, '7453471febf1db6f': 595, '749ed3502293d019': 475, '74b13710bcf4f7f3': 771, '74b2e35cda75fe27': 629, '74bfc95412b2f824': 672, '74dbbe535861d709': 418, '7506caf0a49c3951': 79, '7524a7ef9de8edc3': 947, '7529b42e71769777': 477, '76886996d4ab4614': 975, '76a5715019fe11c7': 821, '76d7e2d1bf3a31fe': 312, '76db169867bf2e9d': 964, '7700d0ba053dc4bd': 937, '77ac8bf95825dfcc': 908, '77c72d0a01e1af70': 428, '78059d1afd7b9fea': 58, '784232355d49601b': 327, '789417c091011f53': 345, '791c3d333052ca64': 964, '795f5aef9bef8134': 826, '796e23f8dbf9a7a2': 607, '79a5625805a08253': 766, '79f953be91aa8ce2': 660, '79fa9855119ffeea': 479, '7a11ae4c1f5e790c': 689, '7a291389e67a8a07': 417, '7a51c260ca0e83e7': 548, '7a85f42383ec2f81': 709, '7b6a9bf5b175e3b2': 558, '7b6cc934fda859fa': 307, '7b6e963025eaeb66': 994, '7b71925e989ee1d8': 934, '7b8413ef241118df': 548, '7c249a944594a62e': 990, '7c3b0d93654b39cd': 708, '7c5ea6f89e6e2733': 820, '7c754696067fdfa9': 765, '7ca714cdcd5d36d9': 780, '7d253f78ef6f029a': 683, '7d2a7bca22967f29': 735, '7d2e9b03ec1b630b': 401, '7d4186ce0332245d': 976, '7d599306068f4594': 717, '7d7a8e41b8d0577e': 545, '7d833ac8ab852bd2': 52, '7e0fb7f80ffa514b': 655, '7e4c41563370bed1': 719, '7e5c847bafc4d50c': 909, '7e73c7adc520e406': 133, '7f045354f4577c16': 558, '7f3c20f487834846': 408, '7f842d0c1e747334': 305, '7fd7ce3eb2bf9944': 100, '80177288cda51d95': 641, '8020698d79dc39f2': 855, '803450d936b35ebb': 934, '8090736c8299ab28': 980, '8094d4088a08cf09': 441, '81804435ad51df95': 437, '81a7637c67f4f777': 490, '81ddbe14219e9dcf': 318, '820ae900a943d605': 888, '82179b1d313e0e23': 830, '821aae58dc96b4b2': 341, '823f8eae0df2d5c1': 95, '828ade8df2d14c45': 888, '82b6f0bc71f5d0af': 563, '82e2334925339ef8': 818, '83896b9fb7e9c2f8': 537, '839aa3d166b020cf': 14, '83d35591dfff99ac': 581, '8400742ba78ac009': 971, '84640859ee739095': 720, '84a5f6ee2af29208': 321, '84af93c72781b7f0': 438, '8555611998ea426a': 991, '858ec91996beb034': 686, '85e2eea48d912d31': 806, '864fffaf7a83b3f4': 581, '868af4a2e614f5ac': 718, '869adfbad4e38261': 592, '871c99d5658c3189': 956, '8724748782cb6c31': 76, '8749fd2540a0cb01': 833, '8764eecf6e898c7f': 484, '87937b805302f958': 418, '87a2147620d5e1cb': 780, '87fcc5f70673d3d2': 699, '8800cff23fade16a': 532, '8805b0b20d808c49': 704, '8859efd46fab37ff': 923, '8868879c2acd5d9e': 322, '890fdaf4e1892e00': 313, '89119361e9d9e02d': 649, '891fe6baf8896b77': 325, '89d60f53d478c4f7': 668, '89d8361c6bfe905c': 604, '89f48bcf97aa6600': 418, '8a02b6196885c394': 760, '8a82ddd7ab76efbb': 511, '8af30e5c3fa48a08': 696, '8b47d72b39b2bd33': 526, '8b7a5446dae48ac1': 309, '8bb7d10e97694eb5': 143, '8c5b5bc0f39e2e06': 898, '8c609b06a60af060': 499, '8c6edf1ddfb61102': 889, '8c8bc30a62a1ee23': 304, '8c975de17f3247d1': 650, '8d17aa69b4fd7b45': 407, '8d68931ba23fdeb7': 842, '8d86fae18afef4e0': 38, '8d90c523b27410a7': 321, '8da3593258ae27cb': 581, '8df3dc0c3fef1824': 951, '8e3324c208eb9a3b': 822, '8e89734ed940e222': 657, '8e9e976fc98e3cfa': 666, '8f07c92f0af97807': 806, '8f5e0855ca8de8ea': 468, '8f5eda0b6a910b43': 950, '8f97e3fface13e4d': 472, '8f9c1e4fd9f4cb2e': 17, '90ab38bb74020d5a': 647, '90dfd75887f3e67b': 986, '90e11aa7c36c64f2': 950, '90e1aa56cae80a60': 918, '90e9a43bfb6a68b7': 867, '90f5385a77a49f77': 704, '911aebf30626ce02': 875, '919a6f1d23c6d05e': 145, '91d18b353d5b3be2': 931, '9226b783cfb770bd': 826, '92c3f5e99d8ac862': 664, '92c73d668e2cd3ce': 859, '92dbb18dd447fd75': 490, '93114736f072d6d3': 61, '9311a098cfb4b946': 821, '93394c1f9c4c0053': 320, '938ada2f2bfa2b68': 844, '93a0857ff81c25ce': 548, '9429f0d1ad2283df': 438, '943274babd06a662': 669, '9455bd672cb9e4bd': 522, '95185508805329aa': 653, '9534108b0e8dceb1': 647, '957529a2abaa0581': 883, '9594ef7e0fc79ea8': 403, '95d1a6be6786190f': 891, '95d6a4087f394d8b': 750, '95fbd20d0aaf319a': 826, '96e77c20bf94ecb1': 818, '96fcb76927274db6': 472, '97025d82ec9860dc': 676, '97151fe7a0a6e2e3': 734, '97917829607b6189': 859, '979757e16b67ac7e': 323, '9876fe92d003c9d4': 913, '99f175132cd1c6e2': 934, '9a1c67f467b9beea': 303, '9a49001b63903f72': 769, '9a5913e0fb6d0866': 767, '9ab953cce5c7f879': 443, '9aba31a4b2404aa5': 841, '9b4cab2ffb0c0754': 975, '9c0e25e2f72438e8': 512, '9c509bfb75167fb0': 641, '9cf861a657c27cec': 583, '9d4674c86096e4bd': 662, '9d55997552acf0de': 260, '9d5ef11ec55123e5': 100, '9db1070b1b9f03d2': 324, '9ee13ecd8d6727c0': 801, '9f3afb58c061c290': 981, '9f55ac35ce9703e5': 9, '9f6fe669276f04cf': 920, '9fbeb797de1e1639': 763, '9fe19d5c6dab83a3': 455, 'a00c8d22e63497c4': 431, 'a033832d9ff8913b': 101, 'a187afb98f295057': 121, 'a193f7ae7d550a82': 899, 'a28beac14b9037da': 405, 'a2de1f4f2c1021fa': 456, 'a33af1b9f8b8a81b': 880, 'a3c4dd88edacb575': 400, 'a3c651cf20ee2d34': 402, 'a414ccf5c51454e0': 830, 'a482985ca1e77960': 891, 'a4f718e554dd18dd': 976, 'a52570066ecc61fd': 976, 'a5949b0719d3ea77': 981, 'a64ae1acd9d09a87': 131, 'a6535c039bfeba2c': 536, 'a70b1cda0776cba6': 143, 'a7151de51c2f1d0b': 345, 'a74f197288b10a0d': 808, 'a777db736ecdfb65': 326, 'a7f9b28e30d19d85': 662, 'a84ead15406596ce': 480, 'a8631b077e74f7aa': 480, 'a8c3363bbcc7015c': 739, 'a8dd9ba15f7b817b': 806, 'a8fca010774a1187': 829, 'a8fe76c687b00e33': 488, 'a90d9627e2145090': 426, 'a920691cf2d50f79': 646, 'a92ab9e5fb9c5d64': 629, 'a92babc0a6436d3b': 760, 'a92e49d8bbdc2aae': 533, 'a97274c7e80a1764': 866, 'aa07ba1587ec047e': 469, 'aa4e1cf9cb6e7801': 896, 'aa90f93ed6fae139': 310, 'ab3fef142d031784': 657, 'ab42aa5e9745c214': 582, 'ab8329c28d8538c3': 469, 'abd121ef53a69ef8': 240, 'abe9504895f6e8dd': 566, 'ac295a63ac9d2cd7': 693, 'ac2a8a4777dbe746': 896, 'ac668c13ccfd4b79': 598, 'acd99e9b7128395a': 859, 'ad333e5d6953cbbf': 633, 'ad43e858c614db4d': 968, 'adcf48b42266309d': 505, 'ae24c23192976a40': 752, 'ae78688b32986638': 913, 'af2ac1705dc19a5f': 384, 'af3736cca01a2d28': 318, 'af543b5f19ed1b1d': 40, 'afa0f88aaab03427': 545, 'afb0233b2e0545c4': 581, 'afe045d68f1a60d0': 990, 'b02b553998809e17': 704, 'b0619a61cf135f5e': 985, 'b0bb1ea9bcc45800': 845, 'b0e0e06e647b478f': 484, 'b11fa0f292c0178f': 702, 'b19e2df06dbcccd9': 673, 'b1bf532ce2c4c3a1': 830, 'b1e69e9c3d740f4c': 4, 'b217644382dcd864': 512, 'b239b5b3e1642f3b': 914, 'b2a7e558f1a3ff16': 620, 'b3ba6f0352a29b2d': 752, 'b3c384a2d1a391c0': 631, 'b3f200c672c5ca4f': 647, 'b48febf2b989205b': 760, 'b5548ecffa20aac8': 934, 'b58e8d136aff5a50': 625, 'b648e8dfcb4fbc99': 702, 'b6c6a5b7829fbc9b': 473, 'b722c809657aecee': 777, 'b74c05ecff5f99d8': 407, 'b76e552d4b3ec0c3': 992, 'b7d9e1d8cf1d7912': 519, 'b8596bba57a73794': 352, 'b86d604067f50613': 490, 'b89dbfcc49dcf156': 889, 'b9310b9080c06e4f': 867, 'b97f4b95ae696316': 518, 'ba4508962af69d90': 673, 'ba4b978112a20be1': 972, 'baeb1300832574aa': 972, 'bb03be3702584eeb': 672, 'bb6fcb4a52b4fc0f': 735, 'bb748281da5e8681': 348, 'bba5c56cc3eb07c9': 921, 'bc7dff0960bb3335': 443, 'bc9a5e01c02e759e': 923, 'bd3617fcc985fe31': 833, 'be1c43056c5d0085': 145, 'be5543dc68f0b970': 780, 'be95f5be87f6fadd': 459, 'be97d1e63c32043e': 91, 'be9a3bea2989a0b4': 718, 'beb3e55c385feb12': 815, 'becf3b004177ded6': 986, 'bfb2aaf48d7fc08c': 979, 'c02ff39fe5832f4b': 905, 'c036b20afde859b7': 281, 'c0e0c11350b8740e': 319, 'c10f6e0689efbc1c': 895, 'c135337ca7a575ae': 348, 'c135b139d293f7f2': 347, 'c179282bd977c6e0': 672, 'c17d39b1eba4cc03': 669, 'c25da85d5d62b000': 404, 'c27e3bde18fba21b': 323, 'c335ce88293384f2': 735, 'c35cd0d5673ec1db': 963, 'c3cf76709c87255b': 676, 'c3e9a84e039df3ce': 469, 'c3f452167c39302f': 296, 'c42c88890b5fc86d': 671, 'c43077b2283479be': 14, 'c47ca11294a9aefe': 547, 'c4824f023903731a': 738, 'c5c9d17672ff88ce': 458, 'c5f5e09f4f5fd41a': 404, 'c609f86fa706bb9e': 113, 'c6166621198a3de4': 986, 'c66310d8b709d6d5': 763, 'c663670c06c06ea4': 909, 'c6b5f6c1d79dffc6': 583, 'c6e0d2ab3bbf4a3e': 706, 'c755f3b0f89028fc': 566, 'c777da68bec01dcd': 487, 'c7d0c73d636300f5': 830, 'c819099fed6f0d73': 962, 'c8231978dc765004': 472, 'c83cfca4bc9dd3c7': 696, 'c84cbc2c05227bee': 437, 'c8abefc975e94b10': 875, 'c9302f3b2b0452e4': 884, 'c96358fe7b8eaf28': 706, 'c96c3eab644075d3': 348, 'c98a8640dcfaa5e0': 747, 'c9ddfb1043177de8': 975, 'ca50e3535eb6396c': 868, 'cb63df64516985c1': 635, 'cb71a056a8e05bb2': 320, 'cbaff3255afbe83f': 561, 'cbcb7444cc827812': 763, 'cc13c2bc5cdd1f44': 560, 'cc283b8f7f46fbf0': 574, 'cc43200264a62126': 981, 'cc8d850717026796': 662, 'ccbcaf10176e78e0': 923, 'cd2d2889ef7ac51c': 924, 'cd40b0e46c9da574': 662, 'ce05236afebb173d': 536, 'cebd45d7200f6111': 71, 'cec46dbd1fa3473a': 898, 'cfab8f880da31ad8': 541, 'd0029b3675b792ae': 790, 'd016b3204e7ca96e': 792, 'd02adcb9140880a1': 916, 'd05076189b7fd185': 708, 'd051e0bd46125123': 669, 'd0c6c29954f0380b': 431, 'd0fe8afb55c3c7cd': 498, 'd12aad0d18252b40': 325, 'd158837db31ed892': 519, 'd1709eec353a6f93': 297, 'd1a723656dc08b5e': 822, 'd204464fcf15ad99': 300, 'd23fd2119c4f5dec': 329, 'd25df1a8259d3fdf': 161, 'd2cc2eabfc7bf54a': 556, 'd2d2b255935f0aae': 948, 'd2d6ae6e0b8a0c31': 986, 'd34c51d7523e9c0f': 647, 'd3551db0b83c8fc0': 618, 'd386396825739960': 854, 'd392f0639c17f396': 859, 'd3a88c50958b1b5f': 977, 'd3aa8ee50458c020': 431, 'd4579363596fbf21': 833, 'd46216d31908163e': 896, 'd47c9aabecda0e12': 986, 'd4c817db6be62b71': 95, 'd531a31add433f46': 764, 'd5d5f843f100328c': 886, 'd67b326ef48bb7b7': 874, 'd6887e8d19a06139': 563, 'd6d192c5786f29f5': 473, 'd6d42f8a1f6b4460': 666, 'd6eac6858474111c': 323, 'd72f34526e12fd83': 442, 'd740663eeccdcecd': 438, 'd741b583a123562b': 321, 'd77af00930283f4b': 901, 'd7984e6e1a51b3c4': 518, 'd7c1d1632cf0acc7': 404, 'd7c8008bf74f2324': 815, 'd7d5b34ea0a0ffcf': 878, 'd7d8fc1442a82a8e': 22, 'd7de327bbf412965': 490, 'd7ffed8f21024a14': 752, 'd8b0101e2459882a': 655, 'd94940216544b2c5': 312, 'd959fd91192d5717': 629, 'd97c1f3f1c211d1a': 979, 'd9da4e5ef53d5e8b': 540, 'd9f624188d16fe93': 40, 'da4b3e38b069d735': 777, 'da4f4d6944d93ae0': 735, 'da63f2acf683c0a7': 134, 'da7e65bc80814f37': 855, 'daa43d65c3b18a84': 822, 'daa6404780b1af27': 638, 'dacb07f80166a7fd': 449, 'dad40e355e4e8e96': 655, 'db6c6671a6924eba': 407, 'dc12a25cc85ee9cf': 647, 'dcb6b32cd80f2b1f': 556, 'dd4d033a9a45552d': 392, 'dd722682a9f2b9dd': 437, 'dd984311bff04342': 118, 'dde33b51c8c152d2': 735, 'dde9f0aadcb02874': 981, 'de282cea97167923': 304, 'de40907c1e2c5515': 629, 'df2cd1b82d5dec14': 519, 'df58f94361c6d105': 610, 'df874264566c58a9': 742, 'e071bf346787d971': 563, 'e0c0f412d78571dc': 734, 'e19a59ad09d18497': 443, 'e1c702ed9842dd1c': 693, 'e22a1c8dab22f256': 311, 'e37b556e8889d2ec': 752, 'e3a740861f12f49e': 820, 'e3c3f8889ac99aec': 536, 'e3f5dbed7bd31314': 547, 'e4941a341ace171a': 709, 'e570258f1bef4ade': 367, 'e5948d6294eb8ca3': 887, 'e5cf220f8144c192': 706, 'e5f15610a22098bb': 672, 'e648427e38e80ff8': 888, 'e66d732354c6baf0': 301, 'e6e677a28e3bd6d7': 604, 'e6f2de0c605f1ed3': 132, 'e758de2cbb3d10a0': 305, 'e7b61bec5e4ca40e': 324, 'e7cafac174e90143': 526, 'e89d48768917f563': 459, 'e8c6f75ad26bae84': 973, 'e8c99e0220ab46d2': 591, 'e8d5809ee6888f8f': 717, 'e91abe0f1a7a30f4': 752, 'e957c417fcd20c5b': 820, 'e95ef0aeeab7b496': 889, 'e96d52f9fbe3ca0b': 631, 'e9811aebe8bed6e5': 336, 'e99ceff3e420ef95': 831, 'e9ecdf28dc1d5a85': 609, 'ea65c0ff71e7ceb3': 404, 'eab9755117160864': 611, 'eae13c52554a7783': 781, 'eb53098ebcf05e64': 564, 'eb8ce5ba5c47e344': 669, 'ebb4dad78cfd67a9': 738, 'ebdfdcba5dc3b72a': 868, 'ec346009f286ffca': 120, 'ecaf98c8ce9f04c3': 561, 'ecd3a969dd466349': 285, 'ed3573d0c197fbaf': 848, 'ed3cb7f5154ae02d': 980, 'ed3f9b6a081a4802': 818, 'ed56c7616a8ac010': 782, 'ed786d792c4309a4': 499, 'ed9b2813b9245e52': 880, 'eee6f4bcc8468f77': 964, 'ef0e34b8ccb6d42f': 982, 'ef5b1e5a76ae66dc': 540, 'efeabdd8a05e91f8': 498, 'f08f34c258228251': 699, 'f0add7f552d2d895': 650, 'f0dcd519b5499d48': 664, 'f1a6fdadaa132225': 990, 'f1ce339a44d7a118': 98, 'f20783fc38473514': 386, 'f20911d36a287dce': 781, 'f24817d66024dfb6': 742, 'f2bfa7a95e787fe1': 721, 'f2d36d089779166a': 349, 'f33087679c5e7799': 443, 'f348adf7ea1967f7': 909, 'f43fbfe8a9ea876c': 884, 'f4902a569fa12171': 950, 'f4bde5facfdca0c6': 788, 'f52db15134c1a74e': 638, 'f533740a8d4618ce': 288, 'f54616f2af588fd8': 673, 'f5a2cf5c66d313fa': 977, 'f5b0ed0fbb3b5f74': 567, 'f5dffe28fc19b6e7': 918, 'f63d58b5af16091f': 716, 'f6437ed4f1b8fe23': 302, 'f6515f31b750a573': 477, 'f6d5c95ce7908a58': 561, 'f734e87286835196': 324, 'f7947af6545be760': 418, 'f7dd570a0cfe1dcc': 669, 'f963957ccfa82f6b': 143, 'f9937696f421f4e4': 85, 'f9f36f7774d73820': 305, 'fa2a7d600b62174e': 521, 'fa3aae44c2675e88': 771, 'fa5484e61e455eb2': 477, 'fae45093bad0961a': 529, 'fae551840c1690fa': 720, 'fafbad0b3093a886': 672, 'fb1efda0b27d5289': 848, 'fbc6b98b13c768e2': 459, 'fc583c08026e3d74': 881, 'fc94d8ed9eca8c51': 390, 'fccab516c111d524': 650, 'fccfc3563cd562e1': 977, 'fd26c4733822dfcc': 363, 'fdedd06cdf58084e': 982, 'fe1314dd6f75551d': 921, 'fe193683db61ac2d': 744, 'fe2edb6cad72d2d2': 918, 'fe92a88132b5d67b': 963, 'fe94909a2fad4ffe': 547, 'fecd59b8de8ae6f7': 820, 'ff5182599937c1ec': 325, 'fff35cdcce3cde43': 913}"
     ]
    },
    {
     "name": "stdout",
     "output_type": "stream",
     "text": [
      "\n",
      "Predictions df:\n",
      "                  PredictedLabel\n",
      "000b7d55b6184b08             389\n",
      "001b5e6f1b89fd3b             577\n",
      "00312c7e7196baf4             327\n",
      "00c3cd597f1ee96f             138\n",
      "01244097ca8ffdfa              91\n",
      "Merged dataframes:\n",
      "                  TrueLabel  PredictedLabel\n",
      "000b7d55b6184b08        389             389\n",
      "001b5e6f1b89fd3b        577             577\n",
      "00312c7e7196baf4        327             327\n",
      "00c3cd597f1ee96f        138             138\n",
      "01244097ca8ffdfa         91              91\n",
      "Add Match col:\n",
      "                  TrueLabel  PredictedLabel  Match\n",
      "000b7d55b6184b08        389             389   True\n",
      "001b5e6f1b89fd3b        577             577   True\n",
      "00312c7e7196baf4        327             327   True\n",
      "00c3cd597f1ee96f        138             138   True\n",
      "01244097ca8ffdfa         91              91   True\n",
      "\n",
      "Number of correct predictions: 952 out of 1000\n"
     ]
    }
   ],
   "source": [
    "# Make predictions\n",
    "predictions = {imageLabels[i]: np.argmax(inception_model.predict(np.expand_dims(dev_tensors[i], axis=0)))+1 for i in tqdm(range(len(dev_paths)))}\n",
    "\n",
    "# Pour predictions into a dataframe\n",
    "df_pred = pd.DataFrame.from_dict(predictions, orient='index')\n",
    "df_pred.columns = ['PredictedLabel']\n",
    "\n",
    "# Merge dataframes with true labels and predicted labels\n",
    "result = pd.concat([df, df_pred], axis=1)\n",
    "\n",
    "# Add col to show if the prediction is correct\n",
    "result['Match'] = result['TrueLabel'] == result['PredictedLabel']"
   ]
  },
  {
   "cell_type": "code",
   "execution_count": 31,
   "metadata": {},
   "outputs": [
    {
     "name": "stdout",
     "output_type": "stream",
     "text": [
      "Add Match col:\n",
      "                  TrueLabel  PredictedLabel  Match\n",
      "000b7d55b6184b08        389             389   True\n",
      "001b5e6f1b89fd3b        577             577   True\n",
      "00312c7e7196baf4        327             327   True\n",
      "00c3cd597f1ee96f        138             138   True\n",
      "01244097ca8ffdfa         91              91   True\n",
      "\n",
      "Number of correct predictions: 952 out of 1000 or 0.952\n"
     ]
    }
   ],
   "source": [
    "print('Add Match col:')\n",
    "print(result.head())\n",
    "print()\n",
    "print('Number of correct predictions:',sum(result['Match']),'out of',len(dev_paths), \"or\", sum(result['Match'])/len(dev_paths))"
   ]
  },
  {
   "cell_type": "code",
   "execution_count": null,
   "metadata": {
    "collapsed": true
   },
   "outputs": [],
   "source": []
  }
 ],
 "metadata": {
  "kernelspec": {
   "display_name": "Python 3",
   "language": "python",
   "name": "python3"
  },
  "language_info": {
   "codemirror_mode": {
    "name": "ipython",
    "version": 3
   },
   "file_extension": ".py",
   "mimetype": "text/x-python",
   "name": "python",
   "nbconvert_exporter": "python",
   "pygments_lexer": "ipython3",
   "version": "3.6.1"
  }
 },
 "nbformat": 4,
 "nbformat_minor": 2
}
